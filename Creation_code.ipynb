{
 "cells": [
  {
   "cell_type": "code",
   "execution_count": null,
   "id": "098e71ab",
   "metadata": {},
   "outputs": [],
   "source": [
    "#Downloading the songs from a playlist in SoundCloud\n",
    "import scdl.scdl as scdl\n",
    "client = scdl.SoundCloud()\n",
    "urls = [\"https://soundcloud.com/nawal-omer/ufi7ezo8xvej?in=asmaa-osman-150527905/sets/fav&si=3eae3773abbf4210bee4aa857f445fa6&utm_source=clipboard&utm_medium=text&utm_campaign=social_sharing\"]\n",
    "for url in urls:\n",
    "    scdl.download_url(client, l=url, name_format=\"{title}\")"
   ]
  },
  {
   "cell_type": "code",
   "execution_count": null,
   "id": "0dc3b5f1",
   "metadata": {},
   "outputs": [],
   "source": [
    "#Trimming the songs to small clips of 30 seconds, for making the audio processing easier \n",
    "\n",
    "from pydub import AudioSegment\n",
    "\n",
    "path_of_the_directory ='/home/asmaosman/Music/Datasets/Sudanese_Dataset/'\n",
    "ext = ('.mp3')\n",
    "i=0\n",
    "for files in os.listdir(path_of_the_directory):\n",
    "    if files.endswith(ext):\n",
    "\n",
    "        startMin = 0\n",
    "        startSec = 180\n",
    "\n",
    "        endMin = 0\n",
    "        endSec = 210\n",
    "\n",
    "        # Time to miliseconds\n",
    "        startTime = startMin*60*1000+startSec*1000\n",
    "        endTime = endMin*60*1000+endSec*1000\n",
    "\n",
    "        # Opening file and extracting segment\n",
    "        song = AudioSegment.from_mp3(path_of_the_directory+files)\n",
    "        extract = song[startTime:endTime]\n",
    "\n",
    "        # Saving\n",
    "        \n",
    "        extract.export( \"/home/asmaosman/Music/Datasets/Sudanese_Dataset/middle_30_seconds/middle\"+str(i)+\".wav\", format=\"wav\")\n",
    "        i=i+1\n",
    "    else:\n",
    "        continue\n",
    "    "
   ]
  },
  {
   "cell_type": "code",
   "execution_count": null,
   "id": "13991469",
   "metadata": {},
   "outputs": [],
   "source": [
    "#Renaming files in a chronological order\n",
    "import os\n",
    "\n",
    "\n",
    "path = '/home/asmaosman/Music/Sudanese'\n",
    "\n",
    "i = 0\n",
    "for filename in os.listdir(path):\n",
    "  os.rename(path+'/'+filename, path+'/'+str(i)+'.mp3')\n",
    "  i = i +1\n"
   ]
  }
 ],
 "metadata": {
  "kernelspec": {
   "display_name": "Python 3 (ipykernel)",
   "language": "python",
   "name": "python3"
  },
  "language_info": {
   "codemirror_mode": {
    "name": "ipython",
    "version": 3
   },
   "file_extension": ".py",
   "mimetype": "text/x-python",
   "name": "python",
   "nbconvert_exporter": "python",
   "pygments_lexer": "ipython3",
   "version": "3.9.12"
  }
 },
 "nbformat": 4,
 "nbformat_minor": 5
}
